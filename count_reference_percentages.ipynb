{
 "cells": [
  {
   "cell_type": "code",
   "execution_count": 31,
   "id": "148f336c",
   "metadata": {
    "scrolled": true
   },
   "outputs": [
    {
     "name": "stdout",
     "output_type": "stream",
     "text": [
      "Bachelors theses:\n",
      "Average share of journals:  0.3915000900259629\n",
      "Average share of books:  0.10394685431373446\n",
      "Average share of conference papers:  0.09541735286253793\n",
      "Average share of masters theses:  0.0028582221188508464\n",
      "Average share of bachelors theses:  0.012968704975356644\n",
      "Average share of phd theses:  0.004842026626672689\n",
      "Average share of websites:  0.23025298861764823\n",
      "Average share of other:  0.15678215783122285\n",
      "\n",
      "Masters theses:\n",
      "Average share of journals:  0.42630232564641873\n",
      "Average share of books:  0.129312463316604\n",
      "Average share of conference papers:  0.2119905538746746\n",
      "Average share of masters theses:  0.0051080431984605965\n",
      "Average share of bachelors theses:  0.0011487780884332608\n",
      "Average share of phd theses:  0.004108824663425854\n",
      "Average share of websites:  0.13330489224813433\n",
      "Average share of other:  0.08839571173888948\n"
     ]
    }
   ],
   "source": [
    "import pandas as pd\n",
    "df_bachelor = pd.read_excel('Dataset_Bach_ref_cols.xlsx')\n",
    "df_master = pd.read_excel('Dataset_Mast_ref_cols.xlsx')\n",
    "\n",
    "for index, row in df_bachelor.iterrows():\n",
    "    df_bachelor.loc[index, 'Number of Journals'] = df_bachelor.loc[index, 'Number of Journals']/df_bachelor.loc[index, \"Number of References\"]\n",
    "    df_bachelor.loc[index, 'Number of Books'] = df_bachelor.loc[index, 'Number of Books']/df_bachelor.loc[index, \"Number of References\"]\n",
    "    df_bachelor.loc[index, 'Number of Conference Papers'] = df_bachelor.loc[index, 'Number of Conference Papers']/df_bachelor.loc[index, \"Number of References\"]\n",
    "    df_bachelor.loc[index, 'Number of Masters Theses'] = df_bachelor.loc[index, 'Number of Masters Theses']/df_bachelor.loc[index, \"Number of References\"]\n",
    "    df_bachelor.loc[index, 'Number of Bachelors Theses'] = df_bachelor.loc[index, 'Number of Bachelors Theses']/df_bachelor.loc[index, \"Number of References\"]\n",
    "    df_bachelor.loc[index, 'Number of PhD Theses'] = df_bachelor.loc[index, 'Number of PhD Theses']/df_bachelor.loc[index, \"Number of References\"]\n",
    "    df_bachelor.loc[index, 'Number of Websites'] = df_bachelor.loc[index, 'Number of Websites']/df_bachelor.loc[index, \"Number of References\"]\n",
    "    df_bachelor.loc[index, 'Other'] = df_bachelor.loc[index, 'Other']/df_bachelor.loc[index, \"Number of References\"]\n",
    "    \n",
    "print('Bachelors theses:')\n",
    "print('Average share of journals: ', df_bachelor['Number of Journals'].mean())\n",
    "print('Average share of books: ', df_bachelor['Number of Books'].mean())\n",
    "print('Average share of conference papers: ', df_bachelor['Number of Conference Papers'].mean())\n",
    "print('Average share of masters theses: ', df_bachelor['Number of Masters Theses'].mean())\n",
    "print('Average share of bachelors theses: ', df_bachelor['Number of Bachelors Theses'].mean())\n",
    "print('Average share of phd theses: ', df_bachelor['Number of PhD Theses'].mean())\n",
    "print('Average share of websites: ', df_bachelor['Number of Websites'].mean())\n",
    "print('Average share of other: ', df_bachelor['Other'].mean())\n",
    "    \n",
    "for index, row in df_master.iterrows():\n",
    "    df_master.loc[index, 'Number of Journals'] = df_master.loc[index, 'Number of Journals']/df_master.loc[index, \"Number of References\"]\n",
    "    df_master.loc[index, 'Number of Books'] = df_master.loc[index, 'Number of Books']/df_master.loc[index, \"Number of References\"]\n",
    "    df_master.loc[index, 'Number of Conference Papers'] = df_master.loc[index, 'Number of Conference Papers']/df_master.loc[index, \"Number of References\"]\n",
    "    df_master.loc[index, 'Number of Masters Theses'] = df_master.loc[index, 'Number of Masters Theses']/df_master.loc[index, \"Number of References\"]\n",
    "    df_master.loc[index, 'Number of Bachelors Theses'] = df_master.loc[index, 'Number of Bachelors Theses']/df_master.loc[index, \"Number of References\"]\n",
    "    df_master.loc[index, 'Number of PhD Theses'] = df_master.loc[index, 'Number of PhD Theses']/df_master.loc[index, \"Number of References\"]\n",
    "    df_master.loc[index, 'Number of Websites'] = df_master.loc[index, 'Number of Websites']/df_master.loc[index, \"Number of References\"]\n",
    "    df_master.loc[index, 'Other'] = df_master.loc[index, 'Other']/df_master.loc[index, \"Number of References\"]\n",
    "\n",
    "print()\n",
    "print('Masters theses:')\n",
    "print('Average share of journals: ', df_master['Number of Journals'].mean())\n",
    "print('Average share of books: ', df_master['Number of Books'].mean())\n",
    "print('Average share of conference papers: ', df_master['Number of Conference Papers'].mean())\n",
    "print('Average share of masters theses: ', df_master['Number of Masters Theses'].mean())\n",
    "print('Average share of bachelors theses: ', df_master['Number of Bachelors Theses'].mean())\n",
    "print('Average share of phd theses: ', df_master['Number of PhD Theses'].mean())\n",
    "print('Average share of websites: ', df_master['Number of Websites'].mean())\n",
    "print('Average share of other: ', df_master['Other'].mean())\n"
   ]
  },
  {
   "cell_type": "code",
   "execution_count": null,
   "id": "45529151",
   "metadata": {
    "collapsed": true
   },
   "outputs": [],
   "source": []
  }
 ],
 "metadata": {
  "kernelspec": {
   "display_name": "Python 3",
   "language": "python",
   "name": "python3"
  },
  "language_info": {
   "codemirror_mode": {
    "name": "ipython",
    "version": 3
   },
   "file_extension": ".py",
   "mimetype": "text/x-python",
   "name": "python",
   "nbconvert_exporter": "python",
   "pygments_lexer": "ipython3",
   "version": "3.8.8"
  }
 },
 "nbformat": 4,
 "nbformat_minor": 5
}
